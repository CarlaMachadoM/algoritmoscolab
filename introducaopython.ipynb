{
  "nbformat": 4,
  "nbformat_minor": 0,
  "metadata": {
    "colab": {
      "provenance": [],
      "authorship_tag": "ABX9TyOe2VzDcIU1tibEzyfBwJ0G",
      "include_colab_link": true
    },
    "kernelspec": {
      "name": "python3",
      "display_name": "Python 3"
    },
    "language_info": {
      "name": "python"
    }
  },
  "cells": [
    {
      "cell_type": "markdown",
      "metadata": {
        "id": "view-in-github",
        "colab_type": "text"
      },
      "source": [
        "<a href=\"https://colab.research.google.com/github/CarlaMachadoM/algoritmoscolab/blob/main/introducaopython.ipynb\" target=\"_parent\"><img src=\"https://colab.research.google.com/assets/colab-badge.svg\" alt=\"Open In Colab\"/></a>"
      ]
    },
    {
      "cell_type": "code",
      "source": [
        "#desafio\n",
        "\n",
        "import random as rd\n",
        "\n",
        "aleatorio = rd.randint(1, 100)\n",
        "\n",
        "numero = int(input(\"Digite um número entre 1 e 100: \"))\n",
        "\n",
        "aleatorio = True\n",
        "\n",
        "while aleatorio:\n",
        "  if numero < aleatorio:\n",
        "    print(\"O número digitado foi menor que o número pensado. \")\n",
        "\n",
        "\n",
        "  if numero > aleatorio:\n",
        "    print(\"O número digitado foi maior que o número pensado. \")\n",
        "\n",
        "\n",
        "  if numero == aleatorio:\n",
        "    print(f\"Você acertou, o número pensado foi {aleatorio}. \")\n"
      ],
      "metadata": {
        "id": "dopkzlDeKmKH"
      },
      "execution_count": null,
      "outputs": []
    },
    {
      "cell_type": "markdown",
      "source": [],
      "metadata": {
        "id": "Od3q0l7068t0"
      }
    },
    {
      "cell_type": "markdown",
      "source": [
        "Seu nome é:\n",
        "E você tem:   anos"
      ],
      "metadata": {
        "id": "Nthl3Oc0_yN0"
      }
    },
    {
      "cell_type": "code",
      "source": [
        "\n",
        "nome = \"Carla Machado\"\n",
        "idade = 32\n",
        "print (nome,\",\",idade)\n",
        "print (\"Seu nome é:\",nome)\n",
        "print (\"E você tem:\", idade, \"anos\")"
      ],
      "metadata": {
        "colab": {
          "base_uri": "https://localhost:8080/"
        },
        "id": "kmZWHIYa-UAG",
        "outputId": "fc2cd60c-1ee2-48a7-bb57-1088f3619f1a"
      },
      "execution_count": null,
      "outputs": [
        {
          "output_type": "stream",
          "name": "stdout",
          "text": [
            "Carla Machado , 32\n",
            "Seu nome é: Carla Machado\n",
            "E você tem: 32 anos\n"
          ]
        }
      ]
    },
    {
      "cell_type": "code",
      "execution_count": null,
      "metadata": {
        "colab": {
          "base_uri": "https://localhost:8080/"
        },
        "id": "RSu_-BA05aza",
        "outputId": "3e80e3e7-4bcb-49b7-b722-5c54a3f1a8b6"
      },
      "outputs": [
        {
          "output_type": "stream",
          "name": "stdout",
          "text": [
            "Bom dia\n"
          ]
        }
      ],
      "source": [
        "print (\"Hello, world\")"
      ]
    },
    {
      "cell_type": "code",
      "source": [
        "nome = input(\"Por favor, digite seu nome: \")\n",
        "\n",
        "print(f\"Seja bem vindo (a), {nome}\")"
      ],
      "metadata": {
        "colab": {
          "base_uri": "https://localhost:8080/"
        },
        "id": "31lR2pJ93kWx",
        "outputId": "6e0e7f61-4ded-422b-d777-30121b952266"
      },
      "execution_count": null,
      "outputs": [
        {
          "output_type": "stream",
          "name": "stdout",
          "text": [
            "Por favor, digite seu nome:Carla\n",
            "Seja bem vinda, Carla\n"
          ]
        }
      ]
    },
    {
      "cell_type": "code",
      "source": [
        "n1 = int(input (\"Digite o primeiro número: \"))\n",
        "n2 = int(input (\"Digite o segundo número: \"))\n",
        "\n",
        "soma = n1 + n2\n",
        "\n",
        "print(f\"A soma de  {n1} e {n2} é {soma}\")\n"
      ],
      "metadata": {
        "colab": {
          "base_uri": "https://localhost:8080/"
        },
        "id": "Ar2OQ-9u5gAm",
        "outputId": "7dcb82c3-44c2-4756-9066-4804fbb2051f"
      },
      "execution_count": null,
      "outputs": [
        {
          "output_type": "stream",
          "name": "stdout",
          "text": [
            "Digite o primeiro número: 50\n",
            "Digite o segundo número: 20\n",
            "A soma de  50 e 20 é 70\n"
          ]
        }
      ]
    },
    {
      "cell_type": "code",
      "source": [
        "#comentários\n",
        "\n",
        "n1 = float(input (\"Digite o primeiro número: \"))\n",
        "n2 = float(input (\"Digite o segundo número: \"))\n",
        "\n",
        "media = (n1 + n2)/2\n",
        "\n",
        "print(f\"A média dos dois números digitados é: {media:.2f} \")"
      ],
      "metadata": {
        "colab": {
          "base_uri": "https://localhost:8080/"
        },
        "id": "U1u-cOUg753M",
        "outputId": "ce4fe1e1-4ccf-4962-ed71-5ddf9e8ac7e1"
      },
      "execution_count": null,
      "outputs": [
        {
          "output_type": "stream",
          "name": "stdout",
          "text": [
            "Digite o primeiro número: 8.5\n",
            "Digite o segundo número: 7\n",
            "A média dos dois números digitados é: 7.75 \n"
          ]
        }
      ]
    },
    {
      "cell_type": "code",
      "source": [
        "#Condicionais\n",
        "\n",
        "tempo = str (input (\"Como está o tempo agora?: \"))\n",
        "\n",
        "if tempo == \"Chuva\":\n",
        "  print(\"Leve um guarda chuva\")\n",
        "\n",
        "if tempo != \"Chuva\":\n",
        "  print(\"Obrigado por nos avisar\")\n"
      ],
      "metadata": {
        "colab": {
          "base_uri": "https://localhost:8080/"
        },
        "id": "ZOs7UyGtLZD9",
        "outputId": "e8deae63-bc5b-400b-afee-d7e1547267bd"
      },
      "execution_count": null,
      "outputs": [
        {
          "output_type": "stream",
          "name": "stdout",
          "text": [
            "Como está o tempo agora?: sol\n",
            "Obrigado por nos avisar\n"
          ]
        }
      ]
    },
    {
      "cell_type": "code",
      "source": [
        "idade = int(input(\"Digite sua idade: \"))\n",
        "contrib = int(input(\"Digite seu tempo de contribuição ao INSS em anos: \"))\n",
        "\n",
        "if idade >= 75 and contrib >= 30:\n",
        "  print(\"Pode se aposentar\")"
      ],
      "metadata": {
        "colab": {
          "base_uri": "https://localhost:8080/"
        },
        "id": "X9Fr7xuNjFGK",
        "outputId": "b14dd3fb-e95e-4741-9587-1f7db77ada0e"
      },
      "execution_count": null,
      "outputs": [
        {
          "name": "stdout",
          "output_type": "stream",
          "text": [
            "Digite sua idade: 32\n",
            "Digite seu tempo de contribuição ao INSS em anos: 10\n"
          ]
        }
      ]
    },
    {
      "cell_type": "code",
      "source": [
        "idade = int(input(\"Digite sua idade: \"))\n",
        "contrib = int(input(\"Digite seu tempo de contribuição ao INSS em anos: \"))\n",
        "\n",
        "if not (idade >= 65 and contrib >= 30):\n",
        "  print(\"Pode se aposentar\")"
      ],
      "metadata": {
        "id": "zTnu58AKjswT"
      },
      "execution_count": null,
      "outputs": []
    },
    {
      "cell_type": "code",
      "source": [
        "nome = str(input(\"Digite seu nome: \")) #str é string, aka caractere\n",
        "idade = int(input(\"Digite sua idade: \"))\n",
        "contrib = int(input(\"Digite seu tempo de contribuição ao INSS em anos: \"))\n",
        "\n",
        "if (idade >= 75 and contrib >= 30) or nome == \"Carla\":\n",
        "  print(\"Pode se aposentar\")"
      ],
      "metadata": {
        "colab": {
          "base_uri": "https://localhost:8080/"
        },
        "id": "gEfCwSpckAnT",
        "outputId": "ea3de1ef-4390-46aa-c0e0-176df8a61a89"
      },
      "execution_count": null,
      "outputs": [
        {
          "name": "stdout",
          "output_type": "stream",
          "text": [
            "Digite seu nome: smgsfngks\n",
            "Digite sua idade: 32\n",
            "Digite seu tempo de contribuição ao INSS em anos: 10\n"
          ]
        }
      ]
    },
    {
      "cell_type": "code",
      "source": [
        "#Condicional if e else\n",
        "\n",
        "tempo = str(input(\"Como está o tempo agora? \"))\n",
        "\n",
        "if (tempo == \"Chovendo\"):\n",
        "  print(\"Leve um guarda-chuva\")\n",
        "\n",
        "else:\n",
        "  print(\"Vai trabalhar tranquilo\")\n",
        "\n",
        "print(\"Obrigado por nos avisar\")"
      ],
      "metadata": {
        "colab": {
          "base_uri": "https://localhost:8080/"
        },
        "id": "x9YRDdU4AMLS",
        "outputId": "9c236eec-6ab7-4911-c6fc-213db1d58b13"
      },
      "execution_count": null,
      "outputs": [
        {
          "output_type": "stream",
          "name": "stdout",
          "text": [
            "Como está o tempo agora? sol\n",
            "Vai trabalhar tranquilo\n"
          ]
        }
      ]
    },
    {
      "cell_type": "code",
      "source": [
        "#idades elif (usado quando há mais opções de if)\n",
        "\n",
        "idade = abs(int(input(\"Digite sua idade: \"))) #abs são números absolutos, ou seja, não aceita números negativos\n",
        "\n",
        "if(idade <12):\n",
        "  print(\"Você é criança\")\n",
        "\n",
        "elif(idade >=12 and idade <=17):\n",
        "  print(\"Você é adolescente\")\n",
        "\n",
        "elif(idade >=18 and idade <=64):\n",
        "  print(\"Você é adulto\")\n",
        "\n",
        "else:\n",
        "  print(\"Você é idoso\")\n"
      ],
      "metadata": {
        "id": "m8N0V9qpDaAf"
      },
      "execution_count": null,
      "outputs": []
    },
    {
      "cell_type": "code",
      "source": [
        "#Usando for in\n",
        "\n",
        "palavra = str(input(\"Digite um texto: \"))\n",
        "\n",
        "for letra in palavra:\n",
        "  nome = str(input(\"Digite seu nome: \"))\n",
        "  idade = int(input(\"Digite sua idade :\"))\n",
        "  curiosidade = str(input(\"Digite uma curiosidade sobre você: \"))\n",
        "\n",
        "  print(f\"Cadastro concluído \\nNome: {nome} \\nIdade: {idade} \\nCuriosidade: {curiosidade}\") #\\n é uma quebra de linha"
      ],
      "metadata": {
        "colab": {
          "base_uri": "https://localhost:8080/"
        },
        "id": "opnNqhLqMIc9",
        "outputId": "066a6ad5-e6b1-4e47-dda9-0dec7ae2b27e"
      },
      "execution_count": null,
      "outputs": [
        {
          "output_type": "stream",
          "name": "stdout",
          "text": [
            "Digite um texto: oi\n",
            "Digite seu nome: carla\n",
            "Digite sua idade :32\n",
            "Digite uma curiosidade sobre você: tenho um porquinho da india\n",
            "Cadastro concluído \n",
            "Nome: carla \n",
            "Idade: 32 \n",
            "Curiosidade: tenho um porquinho da india\n",
            "Digite seu nome: ana\n",
            "Digite sua idade :55\n",
            "Digite uma curiosidade sobre você: sou mergulhadora\n",
            "Cadastro concluído \n",
            "Nome: ana \n",
            "Idade: 55 \n",
            "Curiosidade: sou mergulhadora\n"
          ]
        }
      ]
    },
    {
      "cell_type": "code",
      "source": [
        "#Usando range. Como diz o nome, range é um intervalo entre, por exemplo, números\n",
        "\n",
        "for numero in range(1, 11, 2):\n",
        "  print(numero)"
      ],
      "metadata": {
        "colab": {
          "base_uri": "https://localhost:8080/"
        },
        "id": "WZRCxCxZTjvr",
        "outputId": "5fb1ad64-4829-4893-ad04-1eb4b60831b1"
      },
      "execution_count": null,
      "outputs": [
        {
          "output_type": "stream",
          "name": "stdout",
          "text": [
            "1\n",
            "3\n",
            "5\n",
            "7\n",
            "9\n"
          ]
        }
      ]
    },
    {
      "cell_type": "code",
      "source": [
        "#Exercício\n",
        "\n",
        "quant = int(input(\"Quantas notas foram dadas no ano letivo? \"))\n",
        "soma = 0 #variável sem valor, apenas para ser usada na conta depois\n",
        "\n",
        "for i in range (0, quant):\n",
        "  nota = float(input(\"Digite a nota: \"))\n",
        "  soma = soma + nota\n",
        "  print(soma)\n",
        "\n",
        "final = soma/quant\n",
        "print(f\"Sua média final é {final:.1f}\") #:.1f para colocar uma casa dizimal\n",
        "\n",
        "if final >= 7:\n",
        "  print(\"Aprovado\")\n",
        "\n",
        "elif final >= 5 and final < 6.9:\n",
        "  print(\"Recuperação\")\n",
        "\n",
        "else:\n",
        "  print(\"Reprovado\")"
      ],
      "metadata": {
        "colab": {
          "base_uri": "https://localhost:8080/"
        },
        "id": "HSmRB3j9Wv0T",
        "outputId": "f85ff9dc-0f91-4d87-c162-c90a15733fa1"
      },
      "execution_count": null,
      "outputs": [
        {
          "output_type": "stream",
          "name": "stdout",
          "text": [
            "Quantas notas foram dadas no ano letivo? 4\n",
            "Digite a nota: 5\n",
            "5.0\n",
            "Digite a nota: 6\n",
            "11.0\n",
            "Digite a nota: 7\n",
            "18.0\n",
            "Digite a nota: 6\n",
            "24.0\n",
            "Sua média final é 6.0\n",
            "Recuperação\n"
          ]
        }
      ]
    },
    {
      "cell_type": "code",
      "source": [
        "#while\n",
        "\n",
        "continuar = True\n",
        "while continuar:\n",
        "  nome = str(input(\"Cadastre um nome. Caso deseje finalizar, digite 0. \"))\n",
        "  if nome == \"0\":\n",
        "    continuar = False\n"
      ],
      "metadata": {
        "colab": {
          "base_uri": "https://localhost:8080/"
        },
        "id": "6C2Fvc0Bs5-4",
        "outputId": "67191900-df40-4afb-99a4-1a12afbf31fc"
      },
      "execution_count": null,
      "outputs": [
        {
          "name": "stdout",
          "output_type": "stream",
          "text": [
            "Cadastre um nome. Caso deseje finalizar, digite 0. carla\n",
            "Cadastre um nome. Caso deseje finalizar, digite 0. 0\n"
          ]
        }
      ]
    },
    {
      "cell_type": "code",
      "source": [
        "#while.2\n",
        "\n",
        "while True:\n",
        "  nome = str(input(\"Cadastre um nome. Caso deseje finalizar, digite 0. \"))\n",
        "\n",
        "  if nome == \"0\":\n",
        "    break #break quebra o laço de repetição"
      ],
      "metadata": {
        "colab": {
          "base_uri": "https://localhost:8080/"
        },
        "id": "ABTncuVbvEH2",
        "outputId": "3a8b96ba-3755-4a33-8bf1-5fe60b762dc5"
      },
      "execution_count": null,
      "outputs": [
        {
          "name": "stdout",
          "output_type": "stream",
          "text": [
            "Cadastre um nome. Caso deseje finalizar, digite 0. carla\n",
            "Cadastre um nome. Caso deseje finalizar, digite 0. 0\n"
          ]
        }
      ]
    },
    {
      "cell_type": "code",
      "source": [
        "#while.3\n",
        "\n",
        "while True:\n",
        "  nome = str(input(\"Cadastre um nome: \"))\n",
        "  continuar = str(input(\"Deseja continuar? Digite  'S' para sim e 'N' para não. \"))\n",
        "\n",
        "  if continuar == \"S\":\n",
        "    continue\n",
        "  elif continuar == \"N\":\n",
        "    break"
      ],
      "metadata": {
        "colab": {
          "base_uri": "https://localhost:8080/"
        },
        "id": "JS4WH47PwSkR",
        "outputId": "7aa157b9-d6b0-46be-c893-5b7ecf1cdec2"
      },
      "execution_count": null,
      "outputs": [
        {
          "name": "stdout",
          "output_type": "stream",
          "text": [
            "Cadastre um nome: carla\n",
            "Deseja continuar? Digite  'S' para continuar e 'N' para sair. s\n",
            "Cadastre um nome: ana\n",
            "Deseja continuar? Digite  'S' para continuar e 'N' para sair. n\n",
            "Cadastre um nome: carla\n",
            "Deseja continuar? Digite  'S' para continuar e 'N' para sair. N\n"
          ]
        }
      ]
    },
    {
      "cell_type": "code",
      "source": [
        "#random\n",
        "\n",
        "import random as rd #rd é a abreviação de random\n",
        "\n",
        "aleatorio = rd.randint(0, 10) #randint vem da biblioteca de termos random do python. Olhar google\n",
        "\n",
        "print(aleatorio)"
      ],
      "metadata": {
        "colab": {
          "base_uri": "https://localhost:8080/"
        },
        "id": "edIPco0cyOid",
        "outputId": "e51d7861-4b29-422d-8de9-cbc92235b41b"
      },
      "execution_count": null,
      "outputs": [
        {
          "output_type": "stream",
          "name": "stdout",
          "text": [
            "7\n"
          ]
        }
      ]
    },
    {
      "cell_type": "code",
      "source": [
        "#desafio\n",
        "\n",
        "\n",
        "import random as rd\n",
        "\n",
        "aleatorio = rd.randint(1, 100)\n",
        "\n",
        "\n",
        "numero = abs(int(input(\"Digite um número entre 1 e 100: \")))\n",
        "\n",
        "contador = 1\n",
        "\n",
        "while numero != aleatorio:\n",
        "  if numero < aleatorio:\n",
        "    print(\"O número digitado foi menor que o número pensado. \")\n",
        "  elif numero > 100:\n",
        "    print(\"Número digitado inválido\")\n",
        "  elif numero > aleatorio:\n",
        "    print(\"O número digitado foi maior que o número pensado. \")\n",
        "\n",
        "\n",
        "  numero = int(input(\"Digite um número entre 1 e 100: \"))\n",
        "  contador = contador + 1\n",
        "\n",
        "print(f\"Você acertou, o número pensado foi {aleatorio}.\")\n",
        "print(f\"Você fez {contador} chutes para acertar o número. \")"
      ],
      "metadata": {
        "colab": {
          "base_uri": "https://localhost:8080/"
        },
        "id": "5C3pVNKR1uWD",
        "outputId": "26261c12-8c01-46c3-972c-58a633e89cec"
      },
      "execution_count": null,
      "outputs": [
        {
          "output_type": "stream",
          "name": "stdout",
          "text": [
            "61\n",
            "Digite um número entre 1 e 100: 61\n",
            "Você acertou, o número pensado foi 61.\n",
            "Você fez 1 chutes para acertar o número. \n"
          ]
        }
      ]
    },
    {
      "cell_type": "code",
      "source": [
        "#desafio professor\n",
        "\n",
        "import random as rd\n",
        "\n",
        "aleatorio = rd.randint(1, 100)\n",
        "contador = 0\n",
        "\n",
        "while True:\n",
        "  contador += 1\n",
        "\n",
        "  numero = abs(int(input(\"Digite um número de 1 a 100: \")))\n",
        "\n",
        "  if numero > 100:\n",
        "    print(f\"O número {numero} é inválido, digite um número menor que 100. \")\n",
        "    contador -= 1\n",
        "  else:\n",
        "\n",
        "    if numero > aleatorio:\n",
        "      print(\"O número chutado foi maior que o número pensado. \")\n",
        "\n",
        "    elif numero < aleatorio:\n",
        "      print(\"O número chutado foi menor que o número pensado. \")\n",
        "\n",
        "    else:\n",
        "      print(\"Você acertou o número pensado! \")\n",
        "      break\n",
        "\n",
        "print(f\"Você precisou de {contador} chutes para acertar o número pensado. \")"
      ],
      "metadata": {
        "id": "rm5BnFUVbF5_"
      },
      "execution_count": null,
      "outputs": []
    },
    {
      "cell_type": "code",
      "source": [
        "#listas\n",
        "\n",
        "compras = [\"Arroz\",                    #para listas tem que usar []\n",
        "          \"Feijão\",\n",
        "          \"Frango\",\n",
        "          \"Sabão em pó\"]\n",
        "\n",
        "compras [3] = \"Amaciante\" #para trocar o item\n",
        "print(compras)\n",
        "print(len(compras)) #len é uma função para lenght, para dizer o tamanho da lista"
      ],
      "metadata": {
        "colab": {
          "base_uri": "https://localhost:8080/"
        },
        "id": "zNJyoRCYxqk8",
        "outputId": "482f240d-be08-42ca-ce96-48ae2049646e"
      },
      "execution_count": null,
      "outputs": [
        {
          "output_type": "stream",
          "name": "stdout",
          "text": [
            "['Arroz', 'Feijão', 'Frango', 'Amaciante']\n",
            "4\n"
          ]
        }
      ]
    },
    {
      "cell_type": "code",
      "source": [
        "#NoneType\n",
        "\n",
        "tipos = [\"Arroz\",\n",
        "         14,\n",
        "         1.9,\n",
        "         True,\n",
        "         None]\n",
        "\n",
        "print(tipos)\n",
        "type(tipos[4]) #NoneType is the type for the None object, which is an object that indicates no value. None is the return value of functions that \"don't return anything\""
      ],
      "metadata": {
        "colab": {
          "base_uri": "https://localhost:8080/"
        },
        "id": "YIbWbZC63Isl",
        "outputId": "b2c011d0-17a6-49e1-94ba-cf7f0a402f19"
      },
      "execution_count": null,
      "outputs": [
        {
          "output_type": "stream",
          "name": "stdout",
          "text": [
            "['Arroz', 14, 1.9, True, None]\n"
          ]
        },
        {
          "output_type": "execute_result",
          "data": {
            "text/plain": [
              "NoneType"
            ]
          },
          "metadata": {},
          "execution_count": 38
        }
      ]
    },
    {
      "cell_type": "code",
      "source": [
        "#Append. Usado para acrescentar itens na lista\n",
        "\n",
        "alunos = [\"Maria\",\n",
        "          \"João\",\n",
        "          \"Carol\",\n",
        "          \"Pedro\"]\n",
        "print(alunos)\n",
        "adicionar = str(input(\"Escreva o nome do aluno a ser adicionado. \"))\n",
        "\n",
        "alunos.append(adicionar)\n",
        "print(alunos)\n",
        "\n",
        "excluir = int(input(\"Digite o número da pessoa que deseja excluir. \"))\n",
        "\n",
        "del alunos[excluir] #del é usado para excluir um item\n",
        "print(alunos)\n"
      ],
      "metadata": {
        "colab": {
          "base_uri": "https://localhost:8080/"
        },
        "id": "5AHerufi8wj2",
        "outputId": "1e919e39-c7cc-4f33-bc03-8c3ac8e7c09f"
      },
      "execution_count": null,
      "outputs": [
        {
          "output_type": "stream",
          "name": "stdout",
          "text": [
            "['Maria', 'João', 'Carol', 'Pedro']\n",
            "Escreva o nome do aluno a ser adicionado. Brok\n",
            "['Maria', 'João', 'Carol', 'Pedro', 'Brok']\n",
            "Digite o número da pessoa que deseja excluir. 2\n",
            "['Maria', 'João', 'Pedro', 'Brok']\n"
          ]
        }
      ]
    },
    {
      "cell_type": "code",
      "source": [
        "#Pop -  apaga o item mas armazena na memória caso precise ser usado depois\n",
        "\n",
        "alunos = [\"Maria\",\n",
        "          \"João\",\n",
        "          \"Carol\",\n",
        "          \"Pedro\"]\n",
        "print(alunos)\n",
        "adicionar = str(input(\"Escreva o nome do aluno a ser adicionado. \"))\n",
        "\n",
        "alunos.append(adicionar)\n",
        "print(alunos)\n",
        "\n",
        "excluir = int(input(\"Digite o número da pessoa que deseja excluir. \"))\n",
        "\n",
        "excluido = alunos.pop(excluir)\n",
        "\n",
        "print(f\"O aluno {excluido} foi eliminado com sucesso. \")\n",
        "print(alunos)"
      ],
      "metadata": {
        "colab": {
          "base_uri": "https://localhost:8080/"
        },
        "id": "O62HRWacBqDE",
        "outputId": "ae17fc4a-2195-4eb5-f4b4-baafdb389c9e"
      },
      "execution_count": null,
      "outputs": [
        {
          "output_type": "stream",
          "name": "stdout",
          "text": [
            "['Maria', 'João', 'Carol', 'Pedro']\n",
            "Escreva o nome do aluno a ser adicionado. Brok\n",
            "['Maria', 'João', 'Carol', 'Pedro', 'Brok']\n",
            "Digite o número da pessoa que deseja excluir. 0\n",
            "O aluno Maria foi eliminado com sucesso. \n",
            "['João', 'Carol', 'Pedro', 'Brok']\n"
          ]
        }
      ]
    },
    {
      "cell_type": "code",
      "source": [
        "#Como ver se um item está na lista ou não\n",
        "\n",
        "alunos = [\"Maria\", \"João\", \"Brok\", \"Carla\"]\n",
        "\n",
        "consulta = str(input(\"Digite um nome a ser consultado: \"))\n",
        "\n",
        "if consulta in alunos:\n",
        "  print(\"O nome faz parte da lista. \")\n",
        "\n",
        "else:\n",
        "  print(\"O nome não está na lista. \")"
      ],
      "metadata": {
        "colab": {
          "base_uri": "https://localhost:8080/"
        },
        "id": "MEfVGHdzepYP",
        "outputId": "c8ee6e10-5240-4b15-93cd-2fd279ed9cb5"
      },
      "execution_count": null,
      "outputs": [
        {
          "output_type": "stream",
          "name": "stdout",
          "text": [
            "Digite um nome a ser consultado: Brok\n",
            "O nome faz parte da lista. \n"
          ]
        }
      ]
    },
    {
      "cell_type": "code",
      "source": [
        "#Exercício idades\n",
        "\n",
        "maior = []\n",
        "menor = []\n",
        "idade = int(input(\"Digite sua idade: \"))\n",
        "\n",
        "while True:\n",
        "  mais = input(\"Deseja digitar mais idades? Digite S para sim e N para não. \")\n",
        "\n",
        "  if idade >= 18:\n",
        "    maior.append(idade)\n",
        "\n",
        "  else:\n",
        "    menor.append(idade)\n",
        "\n",
        "  if mais == \"S\":\n",
        "    idade = int(input(\"Digite sua idade: \"))\n",
        "  elif mais == \"N\":\n",
        "    break\n",
        "\n",
        "print (maior)\n",
        "print (menor)\n"
      ],
      "metadata": {
        "colab": {
          "base_uri": "https://localhost:8080/"
        },
        "id": "s6n2SBa9fjfe",
        "outputId": "cb1ba7bb-dde7-42d2-ea7a-4a3e872a6c39"
      },
      "execution_count": null,
      "outputs": [
        {
          "output_type": "stream",
          "name": "stdout",
          "text": [
            "Digite sua idade: 32\n",
            "Deseja digitar mais idades? Digite S para sim e N para não. S\n",
            "Digite sua idade: 65\n",
            "Deseja digitar mais idades? Digite S para sim e N para não. S\n",
            "Digite sua idade: 46\n",
            "Deseja digitar mais idades? Digite S para sim e N para não. S\n",
            "Digite sua idade: 17\n",
            "Deseja digitar mais idades? Digite S para sim e N para não. S\n",
            "Digite sua idade: 12\n",
            "Deseja digitar mais idades? Digite S para sim e N para não. S\n",
            "Digite sua idade: 9\n",
            "Deseja digitar mais idades? Digite S para sim e N para não. N\n",
            "[32, 65, 46]\n",
            "[17, 12, 9]\n"
          ]
        }
      ]
    },
    {
      "cell_type": "code",
      "source": [
        "#Tupla - podem ser consideradas similares às listas, mas não podemos alterar um mesmo objeto tupla, ou seja, mudar uma de suas referências internas (seus valores), nem adicionar ou remover elemento algum.\n",
        "#Usa-se parênteses\n",
        "\n",
        "tupla = (\"Arroz\", \"Feijão\", \"Carne\", \"Limpeza\")\n",
        "print(tupla)\n",
        "\n",
        "tupla[2] = \"Frango\"\n",
        "\n",
        "#Dá erro pois não se pode alterar informação em tuplas"
      ],
      "metadata": {
        "id": "6JbjH4w58OPs"
      },
      "execution_count": null,
      "outputs": []
    },
    {
      "cell_type": "code",
      "source": [
        "#Tupla\n",
        "\n",
        "arroz, feijao, carne = 1, 2, 3 #a informação se torna uma tupla, ou seja, imutável\n",
        "\n",
        "tupla = \"Arroz\", \"Feijão\", \"Salada\"\n",
        "\n",
        "type(tupla)"
      ],
      "metadata": {
        "colab": {
          "base_uri": "https://localhost:8080/"
        },
        "id": "iyg1fhzs-sKM",
        "outputId": "77804d0f-980f-4730-c0cc-b00fd6f616eb"
      },
      "execution_count": null,
      "outputs": [
        {
          "output_type": "execute_result",
          "data": {
            "text/plain": [
              "tuple"
            ]
          },
          "metadata": {},
          "execution_count": 35
        }
      ]
    },
    {
      "cell_type": "code",
      "source": [
        "#variáveis em lista\n",
        "\n",
        "nome, idade = [\"Carla\", \"Brok\", \"Nathália\"], [32, 2, 33]\n",
        "\n",
        "print(nome)\n",
        "print(idade)"
      ],
      "metadata": {
        "colab": {
          "base_uri": "https://localhost:8080/"
        },
        "id": "KhaJhfVD_xmD",
        "outputId": "3485ff48-1df2-4720-fe2b-f40201715606"
      },
      "execution_count": null,
      "outputs": [
        {
          "output_type": "stream",
          "name": "stdout",
          "text": [
            "['Carla', 'Brok', 'Nathália']\n",
            "[32, 2, 33]\n"
          ]
        }
      ]
    },
    {
      "cell_type": "code",
      "source": [
        "#Dicionário\n",
        "\n",
        "#dict = {key:value}\n",
        "\n",
        "dict = {\"Arroz\": 9.90,\n",
        "        \"Feijão\": 5.50}"
      ],
      "metadata": {
        "id": "fmKFhKQYDcrN"
      },
      "execution_count": null,
      "outputs": []
    },
    {
      "cell_type": "code",
      "source": [
        "compras = {\n",
        "    \"Arroz\": 9.99,\n",
        "    \"Feijão\": 5.59,\n",
        "    \"Frango\": 22.0\n",
        "}\n",
        "\n",
        "print(compras)\n",
        "\n",
        "compras [\"Alface\"] = 2.30 #para adicionar mais itens\n",
        "\n",
        "print(compras)\n",
        "\n",
        "del compras[\"Feijão\"] #para delatar um item\n",
        "print(compras)\n",
        "\n"
      ],
      "metadata": {
        "id": "W7ZmLXkPF83F"
      },
      "execution_count": null,
      "outputs": []
    },
    {
      "cell_type": "code",
      "source": [
        "#Dicionário com mais de um valor\n",
        "\n",
        "estoque = {\n",
        "    \"Arroz\": [9.90, 50], #para colocar mais de um valor no item, abre-se [] dentro das {}\n",
        "    \"Feijão\": [5.50, 60],\n",
        "    \"Frango\": [22.0, 40],\n",
        "    \"Sabão em pó\": [12.0, 100],\n",
        "    \"Detergente\": [7.50, 70]\n",
        "}\n",
        "\n",
        "print(estoque[\"Detergente\"][1]) #1 para mostrar o segundo valor, ou seja, o estoque. Se fosse o primeiro valor, do preço, seria 0\n",
        "\n",
        "print(estoque.keys()) #para mostrar as chaves armazenadas. As chaves são os itens da lista\n",
        "print(estoque.values()) #para mostrar os valores"
      ],
      "metadata": {
        "colab": {
          "base_uri": "https://localhost:8080/"
        },
        "id": "7_tNMb1r5oY5",
        "outputId": "d73a325c-7e9d-4ce0-f64b-9250c3f36377"
      },
      "execution_count": null,
      "outputs": [
        {
          "output_type": "stream",
          "name": "stdout",
          "text": [
            "70\n",
            "dict_keys(['Arroz', 'Feijão', 'Frango', 'Sabão em pó', 'Detergente'])\n",
            "dict_values([[9.9, 50], [5.5, 60], [22.0, 40], [12.0, 100], [7.5, 70]])\n"
          ]
        }
      ]
    },
    {
      "cell_type": "code",
      "source": [
        "#Criando funções\n",
        "\n",
        "def soma(a, b):\n",
        "  print (a + b)\n",
        "\n",
        "numero1 = int(input(\"Digite o primeiro número: \"))\n",
        "numero2 = int(input(\"Digite o segundo número: \"))\n",
        "\n",
        "soma(numero1, numero2)\n",
        "\n",
        "numero1 = float(input(\"Digite o primeiro número: \"))\n",
        "numero2 = float(input(\"Digite o segundo número: \"))\n",
        "\n",
        "soma(numero1, numero2)"
      ],
      "metadata": {
        "colab": {
          "base_uri": "https://localhost:8080/"
        },
        "id": "rDu85Fdw_sXB",
        "outputId": "0ee4d3ad-c217-4376-f337-c5d67a6878d3"
      },
      "execution_count": null,
      "outputs": [
        {
          "output_type": "stream",
          "name": "stdout",
          "text": [
            "Digite o primeiro número: 5\n",
            "Digite o segundo número: 9\n",
            "14\n",
            "Digite o primeiro número: 5.5\n",
            "Digite o segundo número: 9.9\n",
            "15.4\n"
          ]
        }
      ]
    },
    {
      "cell_type": "code",
      "source": [
        "#função exemplos\n",
        "\n",
        "maior =[]\n",
        "menor = []\n",
        "\n",
        "\n",
        "def fun_idade(idade):\n",
        "\n",
        "  if idade > 18:\n",
        "    maior.append(idade)\n",
        "\n",
        "  elif idade <= 18:\n",
        "    menor.append(idade)\n",
        "\n",
        "  def fun_verificar(a):\n",
        "    while True:\n",
        "      if a == \"Sair\":\n",
        "       break\n",
        "\n",
        "      else:\n",
        "       continue\n",
        "\n",
        "while True:\n",
        "  idade = int(input(\"Digite uma idade: \"))\n",
        "\n",
        "  fun_idade(idade)\n",
        "\n",
        "  verificar = str(input(\"Caso queira encerrar, digite 'Sair': \"))\n",
        "\n",
        "  if verificar == \"Sair\":\n",
        "    break\n",
        "\n",
        "  else:\n",
        "    continue\n",
        "\n",
        "print (maior)\n",
        "print (menor)"
      ],
      "metadata": {
        "colab": {
          "base_uri": "https://localhost:8080/"
        },
        "id": "eAKSnTtMFWLR",
        "outputId": "e37839af-ecb3-4e08-81d5-a6362249d7d7"
      },
      "execution_count": null,
      "outputs": [
        {
          "output_type": "stream",
          "name": "stdout",
          "text": [
            "Digite uma idade: 32\n",
            "Caso queira encerrar, digite 'Sair': n\n",
            "Digite uma idade: 85\n",
            "Caso queira encerrar, digite 'Sair': Sair\n",
            "[32, 85]\n",
            "[]\n"
          ]
        }
      ]
    },
    {
      "cell_type": "code",
      "source": [
        "#Programa jokenpo\n",
        "\n",
        "while True:\n",
        "  jokenpo = abs(int(input(\"Jogador 1, digite 1 para PEDRA, 2 para PAPEL e 3 para TESOURA: \")))\n",
        "  jokenpo2 = abs(int(input(\"Jogador 2, digite 1 para PEDRA, 2 para PAPEL e 3 para TESOURA: \")))\n",
        "\n",
        "  if jokenpo < 1 or jokenpo > 3:\n",
        "      print(f\"Jogador 1: Caractere {jokenpo} inválido, tente novamente. \")\n",
        "  if jokenpo2 < 1 or jokenpo2 > 3:\n",
        "      print(f\"Jogador 2: Caractere {jokenpo2} inválido, tente novamente. \")\n",
        "\n",
        "  if jokenpo == jokenpo2:\n",
        "    print (\"Houve um empate\")\n",
        "\n",
        "    verificar = str(input(\"Caso queira encerrar digite SAIR: \"))\n",
        "\n",
        "\n",
        "  else:\n",
        "\n",
        "\n",
        "    if jokenpo == 1 and jokenpo2 == 2:\n",
        "      print(\"O jogador 2 venceu. \")\n",
        "\n",
        "    if jokenpo == 1 and jokenpo2 == 3:\n",
        "      print(\"O jogador 1 venceu.\")\n",
        "\n",
        "    if jokenpo == 2 and jokenpo2 == 3:\n",
        "      print(\"O jogador 2 venceu. \")\n",
        "\n",
        "    if jokenpo == 2 and jokenpo2 == 1:\n",
        "      print(\"O jogador 1 venceu. \")\n",
        "\n",
        "    if jokenpo == 3 and jokenpo2 == 2:\n",
        "      print(\"O jogador 1 venceu. \")\n",
        "\n",
        "    if jokenpo == 3 and jokenpo2 == 1:\n",
        "     print(\"O jogador 2 venceu. \")\n",
        "\n",
        "\n",
        "    verificar = str(input(\"Caso queira encerrar digite SAIR: \"))\n",
        "\n",
        "  if verificar == \"SAIR\":\n",
        "    break\n",
        "\n",
        "  else:\n",
        "    continue"
      ],
      "metadata": {
        "colab": {
          "base_uri": "https://localhost:8080/"
        },
        "id": "NYdMoBNedDYI",
        "outputId": "d4083764-5904-454e-d049-af972af1a7e9"
      },
      "execution_count": null,
      "outputs": [
        {
          "name": "stdout",
          "output_type": "stream",
          "text": [
            "Jogador 1, digite 1 para PEDRA, 2 para PAPEL e 3 para TESOURA: 3\n",
            "Jogador 2, digite 1 para PEDRA, 2 para PAPEL e 3 para TESOURA: 1\n",
            "O jogador 2 venceu. \n",
            "Caso queira encerrar digite SAIR: SAIR\n"
          ]
        }
      ]
    },
    {
      "cell_type": "code",
      "source": [],
      "metadata": {
        "id": "d0U17AkJz8Lg"
      },
      "execution_count": null,
      "outputs": []
    }
  ]
}