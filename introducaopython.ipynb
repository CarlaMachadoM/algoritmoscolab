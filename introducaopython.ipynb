{
  "cells": [
    {
      "cell_type": "markdown",
      "metadata": {
        "id": "view-in-github",
        "colab_type": "text"
      },
      "source": [
        "<a href=\"https://colab.research.google.com/github/CarlaMachadoM/algoritmoscolab/blob/main/introducaopython.ipynb\" target=\"_parent\"><img src=\"https://colab.research.google.com/assets/colab-badge.svg\" alt=\"Open In Colab\"/></a>"
      ]
    },
    {
      "cell_type": "code",
      "execution_count": null,
      "metadata": {
        "id": "dopkzlDeKmKH"
      },
      "outputs": [],
      "source": [
        "#desafio\n",
        "\n",
        "import random as rd\n",
        "\n",
        "aleatorio = rd.randint(1, 100)\n",
        "\n",
        "numero = int(input(\"Digite um número entre 1 e 100: \"))\n",
        "\n",
        "aleatorio = True\n",
        "\n",
        "while aleatorio:\n",
        "  if numero < aleatorio:\n",
        "    print(\"O número digitado foi menor que o número pensado. \")\n",
        "\n",
        "\n",
        "  if numero > aleatorio:\n",
        "    print(\"O número digitado foi maior que o número pensado. \")\n",
        "\n",
        "\n",
        "  if numero == aleatorio:\n",
        "    print(f\"Você acertou, o número pensado foi {aleatorio}. \")"
      ]
    },
    {
      "cell_type": "markdown",
      "metadata": {
        "id": "Od3q0l7068t0"
      },
      "source": []
    },
    {
      "cell_type": "markdown",
      "metadata": {
        "id": "Nthl3Oc0_yN0"
      },
      "source": [
        "Seu nome é:\n",
        "E você tem:   anos"
      ]
    },
    {
      "cell_type": "code",
      "execution_count": null,
      "metadata": {
        "colab": {
          "base_uri": "https://localhost:8080/"
        },
        "id": "kmZWHIYa-UAG",
        "outputId": "72bf823b-45a3-4c9a-a13a-82c1af6b1318"
      },
      "outputs": [
        {
          "output_type": "stream",
          "name": "stdout",
          "text": [
            "Carla Machado , 32\n",
            "Seu nome é: Carla Machado\n",
            "E você tem: 32 anos\n"
          ]
        }
      ],
      "source": [
        "\n",
        "nome = \"Carla Machado\"\n",
        "idade = 32\n",
        "print (nome,\",\",idade)\n",
        "print (\"Seu nome é:\",nome)\n",
        "print (\"E você tem:\", idade, \"anos\")"
      ]
    },
    {
      "cell_type": "code",
      "execution_count": null,
      "metadata": {
        "colab": {
          "base_uri": "https://localhost:8080/"
        },
        "id": "RSu_-BA05aza",
        "outputId": "3e80e3e7-4bcb-49b7-b722-5c54a3f1a8b6"
      },
      "outputs": [
        {
          "name": "stdout",
          "output_type": "stream",
          "text": [
            "Bom dia\n"
          ]
        }
      ],
      "source": [
        "print (\"Hello, world\")"
      ]
    },
    {
      "cell_type": "code",
      "execution_count": null,
      "metadata": {
        "colab": {
          "base_uri": "https://localhost:8080/"
        },
        "id": "31lR2pJ93kWx",
        "outputId": "6e0e7f61-4ded-422b-d777-30121b952266"
      },
      "outputs": [
        {
          "name": "stdout",
          "output_type": "stream",
          "text": [
            "Por favor, digite seu nome:Carla\n",
            "Seja bem vinda, Carla\n"
          ]
        }
      ],
      "source": [
        "nome = input(\"Por favor, digite seu nome: \")\n",
        "\n",
        "print(f\"Seja bem vindo (a), {nome}\")"
      ]
    },
    {
      "cell_type": "code",
      "execution_count": null,
      "metadata": {
        "colab": {
          "base_uri": "https://localhost:8080/"
        },
        "id": "Ar2OQ-9u5gAm",
        "outputId": "7dcb82c3-44c2-4756-9066-4804fbb2051f"
      },
      "outputs": [
        {
          "name": "stdout",
          "output_type": "stream",
          "text": [
            "Digite o primeiro número: 50\n",
            "Digite o segundo número: 20\n",
            "A soma de  50 e 20 é 70\n"
          ]
        }
      ],
      "source": [
        "n1 = int(input (\"Digite o primeiro número: \"))\n",
        "n2 = int(input (\"Digite o segundo número: \"))\n",
        "\n",
        "soma = n1 + n2\n",
        "\n",
        "print(f\"A soma de  {n1} e {n2} é {soma}\")\n"
      ]
    },
    {
      "cell_type": "code",
      "execution_count": null,
      "metadata": {
        "colab": {
          "base_uri": "https://localhost:8080/"
        },
        "id": "U1u-cOUg753M",
        "outputId": "ce4fe1e1-4ccf-4962-ed71-5ddf9e8ac7e1"
      },
      "outputs": [
        {
          "name": "stdout",
          "output_type": "stream",
          "text": [
            "Digite o primeiro número: 8.5\n",
            "Digite o segundo número: 7\n",
            "A média dos dois números digitados é: 7.75 \n"
          ]
        }
      ],
      "source": [
        "#comentários\n",
        "\n",
        "n1 = float(input (\"Digite o primeiro número: \"))\n",
        "n2 = float(input (\"Digite o segundo número: \"))\n",
        "\n",
        "media = (n1 + n2)/2\n",
        "\n",
        "print(f\"A média dos dois números digitados é: {media:.2f} \")"
      ]
    },
    {
      "cell_type": "code",
      "execution_count": null,
      "metadata": {
        "colab": {
          "base_uri": "https://localhost:8080/"
        },
        "id": "ZOs7UyGtLZD9",
        "outputId": "e8deae63-bc5b-400b-afee-d7e1547267bd"
      },
      "outputs": [
        {
          "name": "stdout",
          "output_type": "stream",
          "text": [
            "Como está o tempo agora?: sol\n",
            "Obrigado por nos avisar\n"
          ]
        }
      ],
      "source": [
        "#Condicionais\n",
        "\n",
        "tempo = str (input (\"Como está o tempo agora?: \"))\n",
        "\n",
        "if tempo == \"Chuva\":\n",
        "  print(\"Leve um guarda chuva\")\n",
        "\n",
        "if tempo != \"Chuva\":\n",
        "  print(\"Obrigado por nos avisar\")\n"
      ]
    },
    {
      "cell_type": "code",
      "execution_count": null,
      "metadata": {
        "colab": {
          "base_uri": "https://localhost:8080/"
        },
        "id": "X9Fr7xuNjFGK",
        "outputId": "b14dd3fb-e95e-4741-9587-1f7db77ada0e"
      },
      "outputs": [
        {
          "name": "stdout",
          "output_type": "stream",
          "text": [
            "Digite sua idade: 32\n",
            "Digite seu tempo de contribuição ao INSS em anos: 10\n"
          ]
        }
      ],
      "source": [
        "idade = int(input(\"Digite sua idade: \"))\n",
        "contrib = int(input(\"Digite seu tempo de contribuição ao INSS em anos: \"))\n",
        "\n",
        "if idade >= 75 and contrib >= 30:\n",
        "  print(\"Pode se aposentar\")"
      ]
    },
    {
      "cell_type": "code",
      "execution_count": null,
      "metadata": {
        "id": "zTnu58AKjswT"
      },
      "outputs": [],
      "source": [
        "idade = int(input(\"Digite sua idade: \"))\n",
        "contrib = int(input(\"Digite seu tempo de contribuição ao INSS em anos: \"))\n",
        "\n",
        "if not (idade >= 65 and contrib >= 30):\n",
        "  print(\"Pode se aposentar\")"
      ]
    },
    {
      "cell_type": "code",
      "execution_count": null,
      "metadata": {
        "colab": {
          "base_uri": "https://localhost:8080/"
        },
        "id": "gEfCwSpckAnT",
        "outputId": "ea3de1ef-4390-46aa-c0e0-176df8a61a89"
      },
      "outputs": [
        {
          "name": "stdout",
          "output_type": "stream",
          "text": [
            "Digite seu nome: smgsfngks\n",
            "Digite sua idade: 32\n",
            "Digite seu tempo de contribuição ao INSS em anos: 10\n"
          ]
        }
      ],
      "source": [
        "nome = str(input(\"Digite seu nome: \")) #str é string, aka caractere\n",
        "idade = int(input(\"Digite sua idade: \"))\n",
        "contrib = int(input(\"Digite seu tempo de contribuição ao INSS em anos: \"))\n",
        "\n",
        "if (idade >= 75 and contrib >= 30) or nome == \"Carla\":\n",
        "  print(\"Pode se aposentar\")"
      ]
    },
    {
      "cell_type": "code",
      "execution_count": null,
      "metadata": {
        "colab": {
          "base_uri": "https://localhost:8080/"
        },
        "id": "x9YRDdU4AMLS",
        "outputId": "9c236eec-6ab7-4911-c6fc-213db1d58b13"
      },
      "outputs": [
        {
          "name": "stdout",
          "output_type": "stream",
          "text": [
            "Como está o tempo agora? sol\n",
            "Vai trabalhar tranquilo\n"
          ]
        }
      ],
      "source": [
        "#Condicional if e else\n",
        "\n",
        "tempo = str(input(\"Como está o tempo agora? \"))\n",
        "\n",
        "if (tempo == \"Chovendo\"):\n",
        "  print(\"Leve um guarda-chuva\")\n",
        "\n",
        "else:\n",
        "  print(\"Vai trabalhar tranquilo\")\n",
        "\n",
        "print(\"Obrigado por nos avisar\")"
      ]
    },
    {
      "cell_type": "code",
      "execution_count": null,
      "metadata": {
        "id": "m8N0V9qpDaAf"
      },
      "outputs": [],
      "source": [
        "#idades elif (usado quando há mais opções de if)\n",
        "\n",
        "idade = abs(int(input(\"Digite sua idade: \"))) #abs são números absolutos, ou seja, não aceita números negativos\n",
        "\n",
        "if(idade <12):\n",
        "  print(\"Você é criança\")\n",
        "\n",
        "elif(idade >=12 and idade <=17):\n",
        "  print(\"Você é adolescente\")\n",
        "\n",
        "elif(idade >=18 and idade <=64):\n",
        "  print(\"Você é adulto\")\n",
        "\n",
        "else:\n",
        "  print(\"Você é idoso\")\n"
      ]
    },
    {
      "cell_type": "code",
      "execution_count": null,
      "metadata": {
        "colab": {
          "base_uri": "https://localhost:8080/"
        },
        "id": "opnNqhLqMIc9",
        "outputId": "066a6ad5-e6b1-4e47-dda9-0dec7ae2b27e"
      },
      "outputs": [
        {
          "name": "stdout",
          "output_type": "stream",
          "text": [
            "Digite um texto: oi\n",
            "Digite seu nome: carla\n",
            "Digite sua idade :32\n",
            "Digite uma curiosidade sobre você: tenho um porquinho da india\n",
            "Cadastro concluído \n",
            "Nome: carla \n",
            "Idade: 32 \n",
            "Curiosidade: tenho um porquinho da india\n",
            "Digite seu nome: ana\n",
            "Digite sua idade :55\n",
            "Digite uma curiosidade sobre você: sou mergulhadora\n",
            "Cadastro concluído \n",
            "Nome: ana \n",
            "Idade: 55 \n",
            "Curiosidade: sou mergulhadora\n"
          ]
        }
      ],
      "source": [
        "#Usando for in\n",
        "\n",
        "palavra = str(input(\"Digite um texto: \"))\n",
        "\n",
        "for letra in palavra:\n",
        "  nome = str(input(\"Digite seu nome: \"))\n",
        "  idade = int(input(\"Digite sua idade :\"))\n",
        "  curiosidade = str(input(\"Digite uma curiosidade sobre você: \"))\n",
        "\n",
        "  print(f\"Cadastro concluído \\nNome: {nome} \\nIdade: {idade} \\nCuriosidade: {curiosidade}\") #\\n é uma quebra de linha"
      ]
    },
    {
      "cell_type": "code",
      "execution_count": null,
      "metadata": {
        "colab": {
          "base_uri": "https://localhost:8080/"
        },
        "id": "WZRCxCxZTjvr",
        "outputId": "5fb1ad64-4829-4893-ad04-1eb4b60831b1"
      },
      "outputs": [
        {
          "name": "stdout",
          "output_type": "stream",
          "text": [
            "1\n",
            "3\n",
            "5\n",
            "7\n",
            "9\n"
          ]
        }
      ],
      "source": [
        "#Usando range. Como diz o nome, range é um intervalo entre, por exemplo, números\n",
        "\n",
        "for numero in range(1, 11, 2):\n",
        "  print(numero)"
      ]
    },
    {
      "cell_type": "code",
      "execution_count": null,
      "metadata": {
        "colab": {
          "base_uri": "https://localhost:8080/"
        },
        "id": "HSmRB3j9Wv0T",
        "outputId": "f85ff9dc-0f91-4d87-c162-c90a15733fa1"
      },
      "outputs": [
        {
          "name": "stdout",
          "output_type": "stream",
          "text": [
            "Quantas notas foram dadas no ano letivo? 4\n",
            "Digite a nota: 5\n",
            "5.0\n",
            "Digite a nota: 6\n",
            "11.0\n",
            "Digite a nota: 7\n",
            "18.0\n",
            "Digite a nota: 6\n",
            "24.0\n",
            "Sua média final é 6.0\n",
            "Recuperação\n"
          ]
        }
      ],
      "source": [
        "#Exercício\n",
        "\n",
        "quant = int(input(\"Quantas notas foram dadas no ano letivo? \"))\n",
        "soma = 0 #variável sem valor, apenas para ser usada na conta depois\n",
        "\n",
        "for i in range (0, quant):\n",
        "  nota = float(input(\"Digite a nota: \"))\n",
        "  soma = soma + nota\n",
        "  print(soma)\n",
        "\n",
        "final = soma/quant\n",
        "print(f\"Sua média final é {final:.1f}\") #:.1f para colocar uma casa dizimal\n",
        "\n",
        "if final >= 7:\n",
        "  print(\"Aprovado\")\n",
        "\n",
        "elif final >= 5 and final < 6.9:\n",
        "  print(\"Recuperação\")\n",
        "\n",
        "else:\n",
        "  print(\"Reprovado\")"
      ]
    },
    {
      "cell_type": "code",
      "execution_count": null,
      "metadata": {
        "colab": {
          "base_uri": "https://localhost:8080/"
        },
        "id": "6C2Fvc0Bs5-4",
        "outputId": "67191900-df40-4afb-99a4-1a12afbf31fc"
      },
      "outputs": [
        {
          "name": "stdout",
          "output_type": "stream",
          "text": [
            "Cadastre um nome. Caso deseje finalizar, digite 0. carla\n",
            "Cadastre um nome. Caso deseje finalizar, digite 0. 0\n"
          ]
        }
      ],
      "source": [
        "#while\n",
        "\n",
        "continuar = True\n",
        "while continuar:\n",
        "  nome = str(input(\"Cadastre um nome. Caso deseje finalizar, digite 0. \"))\n",
        "  if nome == \"0\":\n",
        "    continuar = False\n"
      ]
    },
    {
      "cell_type": "code",
      "execution_count": null,
      "metadata": {
        "colab": {
          "base_uri": "https://localhost:8080/"
        },
        "id": "ABTncuVbvEH2",
        "outputId": "3a8b96ba-3755-4a33-8bf1-5fe60b762dc5"
      },
      "outputs": [
        {
          "name": "stdout",
          "output_type": "stream",
          "text": [
            "Cadastre um nome. Caso deseje finalizar, digite 0. carla\n",
            "Cadastre um nome. Caso deseje finalizar, digite 0. 0\n"
          ]
        }
      ],
      "source": [
        "#while.2\n",
        "\n",
        "while True:\n",
        "  nome = str(input(\"Cadastre um nome. Caso deseje finalizar, digite 0. \"))\n",
        "\n",
        "  if nome == \"0\":\n",
        "    break #break quebra o laço de repetição"
      ]
    },
    {
      "cell_type": "code",
      "execution_count": null,
      "metadata": {
        "colab": {
          "base_uri": "https://localhost:8080/"
        },
        "id": "JS4WH47PwSkR",
        "outputId": "7aa157b9-d6b0-46be-c893-5b7ecf1cdec2"
      },
      "outputs": [
        {
          "name": "stdout",
          "output_type": "stream",
          "text": [
            "Cadastre um nome: carla\n",
            "Deseja continuar? Digite  'S' para continuar e 'N' para sair. s\n",
            "Cadastre um nome: ana\n",
            "Deseja continuar? Digite  'S' para continuar e 'N' para sair. n\n",
            "Cadastre um nome: carla\n",
            "Deseja continuar? Digite  'S' para continuar e 'N' para sair. N\n"
          ]
        }
      ],
      "source": [
        "#while.3\n",
        "\n",
        "while True:\n",
        "  nome = str(input(\"Cadastre um nome: \"))\n",
        "  continuar = str(input(\"Deseja continuar? Digite  'S' para sim e 'N' para não. \"))\n",
        "\n",
        "  if continuar == \"S\":\n",
        "    continue\n",
        "  elif continuar == \"N\":\n",
        "    break"
      ]
    },
    {
      "cell_type": "code",
      "execution_count": null,
      "metadata": {
        "colab": {
          "base_uri": "https://localhost:8080/"
        },
        "id": "edIPco0cyOid",
        "outputId": "e51d7861-4b29-422d-8de9-cbc92235b41b"
      },
      "outputs": [
        {
          "name": "stdout",
          "output_type": "stream",
          "text": [
            "7\n"
          ]
        }
      ],
      "source": [
        "#random\n",
        "\n",
        "import random as rd #rd é a abreviação de random\n",
        "\n",
        "aleatorio = rd.randint(0, 10) #randint vem da biblioteca de termos random do python. Olhar google\n",
        "\n",
        "print(aleatorio)"
      ]
    },
    {
      "cell_type": "code",
      "execution_count": null,
      "metadata": {
        "colab": {
          "base_uri": "https://localhost:8080/"
        },
        "id": "5C3pVNKR1uWD",
        "outputId": "26261c12-8c01-46c3-972c-58a633e89cec"
      },
      "outputs": [
        {
          "name": "stdout",
          "output_type": "stream",
          "text": [
            "61\n",
            "Digite um número entre 1 e 100: 61\n",
            "Você acertou, o número pensado foi 61.\n",
            "Você fez 1 chutes para acertar o número. \n"
          ]
        }
      ],
      "source": [
        "#desafio número aleatório\n",
        "\n",
        "\n",
        "import random as rd\n",
        "\n",
        "aleatorio = rd.randint(1, 100)\n",
        "\n",
        "\n",
        "numero = abs(int(input(\"Digite um número entre 1 e 100: \")))\n",
        "\n",
        "contador = 1\n",
        "\n",
        "while numero != aleatorio:\n",
        "  if numero < aleatorio:\n",
        "    print(\"O número digitado foi menor que o número pensado. \")\n",
        "  elif numero > 100:\n",
        "    print(\"Número digitado inválido\")\n",
        "  elif numero > aleatorio:\n",
        "    print(\"O número digitado foi maior que o número pensado. \")\n",
        "\n",
        "\n",
        "  numero = int(input(\"Digite um número entre 1 e 100: \"))\n",
        "  contador = contador + 1\n",
        "\n",
        "print(f\"Você acertou, o número pensado foi {aleatorio}.\")\n",
        "print(f\"Você fez {contador} chutes para acertar o número. \")"
      ]
    },
    {
      "cell_type": "code",
      "execution_count": null,
      "metadata": {
        "id": "rm5BnFUVbF5_"
      },
      "outputs": [],
      "source": [
        "#desafio professor\n",
        "\n",
        "import random as rd\n",
        "\n",
        "aleatorio = rd.randint(1, 100)\n",
        "contador = 0\n",
        "\n",
        "while True:\n",
        "  contador += 1\n",
        "\n",
        "  numero = abs(int(input(\"Digite um número de 1 a 100: \")))\n",
        "\n",
        "  if numero > 100:\n",
        "    print(f\"O número {numero} é inválido, digite um número menor que 100. \")\n",
        "    contador -= 1\n",
        "  else:\n",
        "\n",
        "    if numero > aleatorio:\n",
        "      print(\"O número chutado foi maior que o número pensado. \")\n",
        "\n",
        "    elif numero < aleatorio:\n",
        "      print(\"O número chutado foi menor que o número pensado. \")\n",
        "\n",
        "    else:\n",
        "      print(\"Você acertou o número pensado! \")\n",
        "      break\n",
        "\n",
        "print(f\"Você precisou de {contador} chutes para acertar o número pensado. \")"
      ]
    },
    {
      "cell_type": "code",
      "execution_count": null,
      "metadata": {
        "colab": {
          "base_uri": "https://localhost:8080/"
        },
        "id": "zNJyoRCYxqk8",
        "outputId": "482f240d-be08-42ca-ce96-48ae2049646e"
      },
      "outputs": [
        {
          "name": "stdout",
          "output_type": "stream",
          "text": [
            "['Arroz', 'Feijão', 'Frango', 'Amaciante']\n",
            "4\n"
          ]
        }
      ],
      "source": [
        "#listas\n",
        "\n",
        "compras = [\"Arroz\",                    #para listas tem que usar []\n",
        "          \"Feijão\",\n",
        "          \"Frango\",\n",
        "          \"Sabão em pó\"]\n",
        "\n",
        "compras [3] = \"Amaciante\" #para trocar o item\n",
        "print(compras)\n",
        "print(len(compras)) #len é uma função para lenght, para dizer o tamanho da lista"
      ]
    },
    {
      "cell_type": "code",
      "execution_count": null,
      "metadata": {
        "colab": {
          "base_uri": "https://localhost:8080/"
        },
        "id": "YIbWbZC63Isl",
        "outputId": "b2c011d0-17a6-49e1-94ba-cf7f0a402f19"
      },
      "outputs": [
        {
          "name": "stdout",
          "output_type": "stream",
          "text": [
            "['Arroz', 14, 1.9, True, None]\n"
          ]
        },
        {
          "data": {
            "text/plain": [
              "NoneType"
            ]
          },
          "execution_count": 38,
          "metadata": {},
          "output_type": "execute_result"
        }
      ],
      "source": [
        "#NoneType\n",
        "\n",
        "tipos = [\"Arroz\",\n",
        "         14,\n",
        "         1.9,\n",
        "         True,\n",
        "         None]\n",
        "\n",
        "print(tipos)\n",
        "type(tipos[4]) #NoneType is the type for the None object, which is an object that indicates no value. None is the return value of functions that \"don't return anything\""
      ]
    },
    {
      "cell_type": "code",
      "execution_count": null,
      "metadata": {
        "colab": {
          "base_uri": "https://localhost:8080/"
        },
        "id": "5AHerufi8wj2",
        "outputId": "1e919e39-c7cc-4f33-bc03-8c3ac8e7c09f"
      },
      "outputs": [
        {
          "name": "stdout",
          "output_type": "stream",
          "text": [
            "['Maria', 'João', 'Carol', 'Pedro']\n",
            "Escreva o nome do aluno a ser adicionado. Brok\n",
            "['Maria', 'João', 'Carol', 'Pedro', 'Brok']\n",
            "Digite o número da pessoa que deseja excluir. 2\n",
            "['Maria', 'João', 'Pedro', 'Brok']\n"
          ]
        }
      ],
      "source": [
        "#Append. Usado para acrescentar itens na lista\n",
        "\n",
        "alunos = [\"Maria\",\n",
        "          \"João\",\n",
        "          \"Carol\",\n",
        "          \"Pedro\"]\n",
        "print(alunos)\n",
        "adicionar = str(input(\"Escreva o nome do aluno a ser adicionado. \"))\n",
        "\n",
        "alunos.append(adicionar)\n",
        "print(alunos)\n",
        "\n",
        "excluir = int(input(\"Digite o número da pessoa que deseja excluir. \"))\n",
        "\n",
        "del alunos[excluir] #del é usado para excluir um item\n",
        "print(alunos)\n"
      ]
    },
    {
      "cell_type": "code",
      "execution_count": null,
      "metadata": {
        "colab": {
          "base_uri": "https://localhost:8080/"
        },
        "id": "O62HRWacBqDE",
        "outputId": "ae17fc4a-2195-4eb5-f4b4-baafdb389c9e"
      },
      "outputs": [
        {
          "name": "stdout",
          "output_type": "stream",
          "text": [
            "['Maria', 'João', 'Carol', 'Pedro']\n",
            "Escreva o nome do aluno a ser adicionado. Brok\n",
            "['Maria', 'João', 'Carol', 'Pedro', 'Brok']\n",
            "Digite o número da pessoa que deseja excluir. 0\n",
            "O aluno Maria foi eliminado com sucesso. \n",
            "['João', 'Carol', 'Pedro', 'Brok']\n"
          ]
        }
      ],
      "source": [
        "#Pop -  apaga o item mas armazena na memória caso precise ser usado depois\n",
        "\n",
        "alunos = [\"Maria\",\n",
        "          \"João\",\n",
        "          \"Carol\",\n",
        "          \"Pedro\"]\n",
        "print(alunos)\n",
        "adicionar = str(input(\"Escreva o nome do aluno a ser adicionado. \"))\n",
        "\n",
        "alunos.append(adicionar)\n",
        "print(alunos)\n",
        "\n",
        "excluir = int(input(\"Digite o número da pessoa que deseja excluir. \"))\n",
        "\n",
        "excluido = alunos.pop(excluir)\n",
        "\n",
        "print(f\"O aluno {excluido} foi eliminado com sucesso. \")\n",
        "print(alunos)"
      ]
    },
    {
      "cell_type": "code",
      "execution_count": null,
      "metadata": {
        "colab": {
          "base_uri": "https://localhost:8080/"
        },
        "id": "MEfVGHdzepYP",
        "outputId": "c8ee6e10-5240-4b15-93cd-2fd279ed9cb5"
      },
      "outputs": [
        {
          "name": "stdout",
          "output_type": "stream",
          "text": [
            "Digite um nome a ser consultado: Brok\n",
            "O nome faz parte da lista. \n"
          ]
        }
      ],
      "source": [
        "#Como ver se um item está na lista ou não\n",
        "\n",
        "alunos = [\"Maria\", \"João\", \"Brok\", \"Carla\"]\n",
        "\n",
        "consulta = str(input(\"Digite um nome a ser consultado: \"))\n",
        "\n",
        "if consulta in alunos:\n",
        "  print(\"O nome faz parte da lista. \")\n",
        "\n",
        "else:\n",
        "  print(\"O nome não está na lista. \")"
      ]
    },
    {
      "cell_type": "code",
      "execution_count": null,
      "metadata": {
        "colab": {
          "base_uri": "https://localhost:8080/"
        },
        "id": "s6n2SBa9fjfe",
        "outputId": "cb1ba7bb-dde7-42d2-ea7a-4a3e872a6c39"
      },
      "outputs": [
        {
          "name": "stdout",
          "output_type": "stream",
          "text": [
            "Digite sua idade: 32\n",
            "Deseja digitar mais idades? Digite S para sim e N para não. S\n",
            "Digite sua idade: 65\n",
            "Deseja digitar mais idades? Digite S para sim e N para não. S\n",
            "Digite sua idade: 46\n",
            "Deseja digitar mais idades? Digite S para sim e N para não. S\n",
            "Digite sua idade: 17\n",
            "Deseja digitar mais idades? Digite S para sim e N para não. S\n",
            "Digite sua idade: 12\n",
            "Deseja digitar mais idades? Digite S para sim e N para não. S\n",
            "Digite sua idade: 9\n",
            "Deseja digitar mais idades? Digite S para sim e N para não. N\n",
            "[32, 65, 46]\n",
            "[17, 12, 9]\n"
          ]
        }
      ],
      "source": [
        "#Exercício idades\n",
        "\n",
        "maior = []\n",
        "menor = []\n",
        "idade = int(input(\"Digite sua idade: \"))\n",
        "\n",
        "while True:\n",
        "  mais = input(\"Deseja digitar mais idades? Digite S para sim e N para não. \")\n",
        "\n",
        "  if idade >= 18:\n",
        "    maior.append(idade)\n",
        "\n",
        "  else:\n",
        "    menor.append(idade)\n",
        "\n",
        "  if mais == \"S\":\n",
        "    idade = int(input(\"Digite sua idade: \"))\n",
        "  elif mais == \"N\":\n",
        "    break\n",
        "\n",
        "print (maior)\n",
        "print (menor)\n"
      ]
    },
    {
      "cell_type": "code",
      "execution_count": null,
      "metadata": {
        "id": "6JbjH4w58OPs"
      },
      "outputs": [],
      "source": [
        "#Tupla - podem ser consideradas similares às listas, mas não podemos alterar um mesmo objeto tupla, ou seja, mudar uma de suas referências internas (seus valores), nem adicionar ou remover elemento algum.\n",
        "#Usa-se parênteses\n",
        "\n",
        "tupla = (\"Arroz\", \"Feijão\", \"Carne\", \"Limpeza\")\n",
        "print(tupla)\n",
        "\n",
        "tupla[2] = \"Frango\"\n",
        "\n",
        "#Dá erro pois não se pode alterar informação em tuplas"
      ]
    },
    {
      "cell_type": "code",
      "execution_count": null,
      "metadata": {
        "colab": {
          "base_uri": "https://localhost:8080/"
        },
        "id": "iyg1fhzs-sKM",
        "outputId": "77804d0f-980f-4730-c0cc-b00fd6f616eb"
      },
      "outputs": [
        {
          "data": {
            "text/plain": [
              "tuple"
            ]
          },
          "execution_count": 35,
          "metadata": {},
          "output_type": "execute_result"
        }
      ],
      "source": [
        "#Tupla\n",
        "\n",
        "arroz, feijao, carne = 1, 2, 3 #a informação se torna uma tupla, ou seja, imutável\n",
        "\n",
        "tupla = \"Arroz\", \"Feijão\", \"Salada\"\n",
        "\n",
        "type(tupla)"
      ]
    },
    {
      "cell_type": "code",
      "execution_count": null,
      "metadata": {
        "colab": {
          "base_uri": "https://localhost:8080/"
        },
        "id": "KhaJhfVD_xmD",
        "outputId": "3485ff48-1df2-4720-fe2b-f40201715606"
      },
      "outputs": [
        {
          "name": "stdout",
          "output_type": "stream",
          "text": [
            "['Carla', 'Brok', 'Nathália']\n",
            "[32, 2, 33]\n"
          ]
        }
      ],
      "source": [
        "#variáveis em lista\n",
        "\n",
        "nome, idade = [\"Carla\", \"Brok\", \"Nathália\"], [32, 2, 33]\n",
        "\n",
        "print(nome)\n",
        "print(idade)"
      ]
    },
    {
      "cell_type": "code",
      "execution_count": null,
      "metadata": {
        "id": "fmKFhKQYDcrN"
      },
      "outputs": [],
      "source": [
        "#Dicionário\n",
        "\n",
        "#dict = {key:value}\n",
        "\n",
        "dict = {\"Arroz\": 9.90,\n",
        "        \"Feijão\": 5.50}"
      ]
    },
    {
      "cell_type": "code",
      "execution_count": null,
      "metadata": {
        "id": "W7ZmLXkPF83F"
      },
      "outputs": [],
      "source": [
        "compras = {\n",
        "    \"Arroz\": 9.99,\n",
        "    \"Feijão\": 5.59,\n",
        "    \"Frango\": 22.0\n",
        "}\n",
        "\n",
        "print(compras)\n",
        "\n",
        "compras [\"Alface\"] = 2.30 #para adicionar mais itens\n",
        "\n",
        "print(compras)\n",
        "\n",
        "del compras[\"Feijão\"] #para delatar um item\n",
        "print(compras)\n",
        "\n"
      ]
    },
    {
      "cell_type": "code",
      "execution_count": null,
      "metadata": {
        "colab": {
          "base_uri": "https://localhost:8080/"
        },
        "id": "7_tNMb1r5oY5",
        "outputId": "d73a325c-7e9d-4ce0-f64b-9250c3f36377"
      },
      "outputs": [
        {
          "name": "stdout",
          "output_type": "stream",
          "text": [
            "70\n",
            "dict_keys(['Arroz', 'Feijão', 'Frango', 'Sabão em pó', 'Detergente'])\n",
            "dict_values([[9.9, 50], [5.5, 60], [22.0, 40], [12.0, 100], [7.5, 70]])\n"
          ]
        }
      ],
      "source": [
        "#Dicionário com mais de um valor\n",
        "\n",
        "estoque = {\n",
        "    \"Arroz\": [9.90, 50], #para colocar mais de um valor no item, abre-se [] dentro das {}\n",
        "    \"Feijão\": [5.50, 60],\n",
        "    \"Frango\": [22.0, 40],\n",
        "    \"Sabão em pó\": [12.0, 100],\n",
        "    \"Detergente\": [7.50, 70]\n",
        "}\n",
        "\n",
        "print(estoque[\"Detergente\"][1]) #1 para mostrar o segundo valor, ou seja, o estoque. Se fosse o primeiro valor, do preço, seria 0\n",
        "\n",
        "print(estoque.keys()) #para mostrar as chaves armazenadas. As chaves são os itens da lista\n",
        "print(estoque.values()) #para mostrar os valores"
      ]
    },
    {
      "cell_type": "code",
      "execution_count": null,
      "metadata": {
        "colab": {
          "base_uri": "https://localhost:8080/"
        },
        "id": "rDu85Fdw_sXB",
        "outputId": "0ee4d3ad-c217-4376-f337-c5d67a6878d3"
      },
      "outputs": [
        {
          "name": "stdout",
          "output_type": "stream",
          "text": [
            "Digite o primeiro número: 5\n",
            "Digite o segundo número: 9\n",
            "14\n",
            "Digite o primeiro número: 5.5\n",
            "Digite o segundo número: 9.9\n",
            "15.4\n"
          ]
        }
      ],
      "source": [
        "#Criando funções\n",
        "\n",
        "def soma(a, b):\n",
        "  print (a + b)\n",
        "\n",
        "numero1 = int(input(\"Digite o primeiro número: \"))\n",
        "numero2 = int(input(\"Digite o segundo número: \"))\n",
        "\n",
        "soma(numero1, numero2)\n",
        "\n",
        "numero1 = float(input(\"Digite o primeiro número: \"))\n",
        "numero2 = float(input(\"Digite o segundo número: \"))\n",
        "\n",
        "soma(numero1, numero2)"
      ]
    },
    {
      "cell_type": "code",
      "execution_count": null,
      "metadata": {
        "colab": {
          "base_uri": "https://localhost:8080/"
        },
        "id": "eAKSnTtMFWLR",
        "outputId": "e37839af-ecb3-4e08-81d5-a6362249d7d7"
      },
      "outputs": [
        {
          "name": "stdout",
          "output_type": "stream",
          "text": [
            "Digite uma idade: 32\n",
            "Caso queira encerrar, digite 'Sair': n\n",
            "Digite uma idade: 85\n",
            "Caso queira encerrar, digite 'Sair': Sair\n",
            "[32, 85]\n",
            "[]\n"
          ]
        }
      ],
      "source": [
        "#função exemplos\n",
        "\n",
        "maior =[]\n",
        "menor = []\n",
        "\n",
        "\n",
        "def fun_idade(idade):\n",
        "\n",
        "  if idade > 18:\n",
        "    maior.append(idade)\n",
        "\n",
        "  elif idade <= 18:\n",
        "    menor.append(idade)\n",
        "\n",
        "  def fun_verificar(a):\n",
        "    while True:\n",
        "      if a == \"Sair\":\n",
        "       break\n",
        "\n",
        "      else:\n",
        "       continue\n",
        "\n",
        "while True:\n",
        "  idade = int(input(\"Digite uma idade: \"))\n",
        "\n",
        "  fun_idade(idade)\n",
        "\n",
        "  verificar = str(input(\"Caso queira encerrar, digite 'Sair': \"))\n",
        "\n",
        "  if verificar == \"Sair\":\n",
        "    break\n",
        "\n",
        "  else:\n",
        "    continue\n",
        "\n",
        "print (maior)\n",
        "print (menor)"
      ]
    },
    {
      "cell_type": "code",
      "execution_count": null,
      "metadata": {
        "colab": {
          "base_uri": "https://localhost:8080/"
        },
        "id": "NYdMoBNedDYI",
        "outputId": "d4083764-5904-454e-d049-af972af1a7e9"
      },
      "outputs": [
        {
          "name": "stdout",
          "output_type": "stream",
          "text": [
            "Jogador 1, digite 1 para PEDRA, 2 para PAPEL e 3 para TESOURA: 3\n",
            "Jogador 2, digite 1 para PEDRA, 2 para PAPEL e 3 para TESOURA: 1\n",
            "O jogador 2 venceu. \n",
            "Caso queira encerrar digite SAIR: SAIR\n"
          ]
        }
      ],
      "source": [
        "#Programa jokenpo\n",
        "\n",
        "import random\n",
        "\n",
        "while True:\n",
        "  jokenpo = abs(int(input(\"Jogador 1, digite 1 para PEDRA, 2 para PAPEL e 3 para TESOURA: \")))\n",
        "  jokenpo2 = abs(int(input(\"Jogador 2, digite 1 para PEDRA, 2 para PAPEL e 3 para TESOURA: \")))\n",
        "\n",
        "  if jokenpo < 1 or jokenpo > 3:\n",
        "      print(f\"Jogador 1: Caractere {jokenpo} inválido, tente novamente. \")\n",
        "  if jokenpo2 < 1 or jokenpo2 > 3:\n",
        "      print(f\"Jogador 2: Caractere {jokenpo2} inválido, tente novamente. \")\n",
        "\n",
        "  if jokenpo == jokenpo2:\n",
        "    print (\"Houve um empate\")\n",
        "\n",
        "    verificar = str(input(\"Caso queira encerrar digite SAIR: \"))\n",
        "\n",
        "\n",
        "  else:\n",
        "\n",
        "\n",
        "    if jokenpo == 1 and jokenpo2 == 2:\n",
        "      print(\"O jogador 2 venceu. \")\n",
        "\n",
        "    if jokenpo == 1 and jokenpo2 == 3:\n",
        "      print(\"O jogador 1 venceu.\")\n",
        "\n",
        "    if jokenpo == 2 and jokenpo2 == 3:\n",
        "      print(\"O jogador 2 venceu. \")\n",
        "\n",
        "    if jokenpo == 2 and jokenpo2 == 1:\n",
        "      print(\"O jogador 1 venceu. \")\n",
        "\n",
        "    if jokenpo == 3 and jokenpo2 == 2:\n",
        "      print(\"O jogador 1 venceu. \")\n",
        "\n",
        "    if jokenpo == 3 and jokenpo2 == 1:\n",
        "     print(\"O jogador 2 venceu. \")\n",
        "\n",
        "\n",
        "    verificar = str(input(\"Caso queira encerrar digite SAIR: \"))\n",
        "\n",
        "  if verificar == \"SAIR\":\n",
        "    break\n",
        "\n",
        "  else:\n",
        "    continue"
      ]
    },
    {
      "cell_type": "code",
      "execution_count": null,
      "metadata": {
        "colab": {
          "base_uri": "https://localhost:8080/"
        },
        "id": "d0U17AkJz8Lg",
        "outputId": "70ddac9a-2845-4498-f39d-737eb0d177e5"
      },
      "outputs": [
        {
          "output_type": "stream",
          "name": "stdout",
          "text": [
            "Sudoku limpo:\n",
            "5 3 0 | 0 7 0 | 0 0 0 \n",
            "6 0 0 | 1 9 5 | 0 0 0 \n",
            "0 9 8 | 0 0 0 | 0 6 0 \n",
            "---------------------\n",
            "8 0 0 | 0 6 0 | 0 0 3 \n",
            "4 0 0 | 8 0 3 | 0 0 1 \n",
            "7 0 0 | 0 2 0 | 0 0 6 \n",
            "---------------------\n",
            "0 6 0 | 0 0 0 | 2 8 0 \n",
            "0 0 0 | 4 1 9 | 0 0 5 \n",
            "0 0 0 | 0 8 0 | 0 7 9 \n",
            "\n",
            "Solving Sudoku...\n",
            "\n",
            "Sudoku resolvido:\n",
            "5 3 4 | 6 7 8 | 9 1 2 \n",
            "6 7 2 | 1 9 5 | 3 4 8 \n",
            "1 9 8 | 3 4 2 | 5 6 7 \n",
            "---------------------\n",
            "8 5 9 | 7 6 1 | 4 2 3 \n",
            "4 2 6 | 8 5 3 | 7 9 1 \n",
            "7 1 3 | 9 2 4 | 8 5 6 \n",
            "---------------------\n",
            "9 6 1 | 5 3 7 | 2 8 4 \n",
            "2 8 7 | 4 1 9 | 6 3 5 \n",
            "3 4 5 | 2 8 6 | 1 7 9 \n"
          ]
        }
      ],
      "source": [
        "#Sudoku\n",
        "\n",
        "def is_valid(board, row, col, num):\n",
        "    # Check if the number is already present in the row\n",
        "    for x in range(9):\n",
        "        if board[row][x] == num:\n",
        "            return False\n",
        "\n",
        "    # Check if the number is already present in the column\n",
        "    for x in range(9):\n",
        "        if board[x][col] == num:\n",
        "            return False\n",
        "\n",
        "    # Check if the number is already present in the 3x3 grid\n",
        "    start_row, start_col = 3 * (row // 3), 3 * (col // 3)\n",
        "    for i in range(3):\n",
        "        for j in range(3):\n",
        "            if board[i + start_row][j + start_col] == num:\n",
        "                return False\n",
        "\n",
        "    return True\n",
        "\n",
        "def solve_sudoku(board):\n",
        "    empty_cell = find_empty_cell(board)\n",
        "    if not empty_cell:\n",
        "        return True  # No empty cells left, puzzle solved\n",
        "\n",
        "    row, col = empty_cell\n",
        "    for num in range(1, 10):\n",
        "        if is_valid(board, row, col, num):\n",
        "            board[row][col] = num\n",
        "            if solve_sudoku(board):\n",
        "                return True\n",
        "            board[row][col] = 0  # Backtrack\n",
        "    return False\n",
        "\n",
        "def find_empty_cell(board):\n",
        "    for i in range(9):\n",
        "        for j in range(9):\n",
        "            if board[i][j] == 0:\n",
        "                return (i, j)\n",
        "    return None\n",
        "\n",
        "def print_board(board):\n",
        "    for i in range(9):\n",
        "        if i % 3 == 0 and i != 0:\n",
        "            print(\"-\" * 21)\n",
        "        for j in range(9):\n",
        "            if j % 3 == 0 and j != 0:\n",
        "                print(\"|\", end=\" \")\n",
        "            print(board[i][j], end=\" \")\n",
        "        print()\n",
        "\n",
        "# Example Sudoku board\n",
        "board = [\n",
        "    [5, 3, 0, 0, 7, 0, 0, 0, 0],\n",
        "    [6, 0, 0, 1, 9, 5, 0, 0, 0],\n",
        "    [0, 9, 8, 0, 0, 0, 0, 6, 0],\n",
        "    [8, 0, 0, 0, 6, 0, 0, 0, 3],\n",
        "    [4, 0, 0, 8, 0, 3, 0, 0, 1],\n",
        "    [7, 0, 0, 0, 2, 0, 0, 0, 6],\n",
        "    [0, 6, 0, 0, 0, 0, 2, 8, 0],\n",
        "    [0, 0, 0, 4, 1, 9, 0, 0, 5],\n",
        "    [0, 0, 0, 0, 8, 0, 0, 7, 9]\n",
        "]\n",
        "\n",
        "print(\"Sudoku limpo:\")\n",
        "print_board(board)\n",
        "print(\"\\nSolving Sudoku...\\n\")\n",
        "if solve_sudoku(board):\n",
        "    print(\"Sudoku resolvido:\")\n",
        "    print_board(board)\n",
        "else:\n",
        "    print(\"Não é possível resolver esse Sudoku.\")\n"
      ]
    },
    {
      "cell_type": "code",
      "execution_count": null,
      "metadata": {
        "colab": {
          "base_uri": "https://localhost:8080/"
        },
        "id": "uTcsrRJXrI-C",
        "outputId": "5e067322-039a-4c06-c0af-d3a53dd0bdb3"
      },
      "outputs": [
        {
          "name": "stdout",
          "output_type": "stream",
          "text": [
            "Brasil\n",
            "('Paraguai', 'Uruguai')\n"
          ]
        }
      ],
      "source": [
        "#Acessando Tuplas\n",
        "\n",
        "paises = \"Brasil\", \"Paraguai\", \"Uruguai\", \"México\"\n",
        "pais = paises[0]\n",
        "print(pais)\n",
        "\n",
        "fatia = paises [1:3]\n",
        "print(fatia)"
      ]
    },
    {
      "cell_type": "code",
      "execution_count": null,
      "metadata": {
        "colab": {
          "base_uri": "https://localhost:8080/"
        },
        "id": "BS3M_VoptvWh",
        "outputId": "d6505f44-0bc3-4ab1-b722-3adf531c0ad7"
      },
      "outputs": [
        {
          "name": "stdout",
          "output_type": "stream",
          "text": [
            "Tupla carros: ('Gol', 'Corolla', 'Ranger', 'Kadett', 'Fusca', 'Clio')\n"
          ]
        }
      ],
      "source": [
        "#Convertendo lista em tupla\n",
        "\n",
        "lista_carros = [\"Gol\", \"Corolla\", \"Ranger\", \"Kadett\", \"Fusca\", \"Clio\"]\n",
        "tupla_carros = tuple(lista_carros)\n",
        "print (f\"Tupla carros: {tupla_carros}\")"
      ]
    },
    {
      "cell_type": "code",
      "execution_count": null,
      "metadata": {
        "colab": {
          "base_uri": "https://localhost:8080/"
        },
        "id": "dzlb-Vng0y9v",
        "outputId": "2bb792fb-d14f-4399-8c98-13c18db9c8c9"
      },
      "outputs": [
        {
          "name": "stdout",
          "output_type": "stream",
          "text": [
            "Carro 1: Golf\n",
            "Carros: ['Corolla', 'Civic']\n"
          ]
        }
      ],
      "source": [
        "#Desempacotando elementos da tupla\n",
        "\n",
        "tupla_carros = \"Golf\", \"Corolla\", \"Civic\"\n",
        "\n",
        "carro1 = tupla_carros [0]\n",
        "carro2 = tupla_carros [1]\n",
        "\n",
        "\n",
        "print (f\"Carro 1: {carro1}\")\n",
        "print (f\"Carros: {carros}\")"
      ]
    },
    {
      "cell_type": "code",
      "execution_count": null,
      "metadata": {
        "colab": {
          "base_uri": "https://localhost:8080/"
        },
        "id": "MrGQtYhp_ZYN",
        "outputId": "dc8afff1-21a3-4549-db9c-92de06569ec4"
      },
      "outputs": [
        {
          "name": "stdout",
          "output_type": "stream",
          "text": [
            "Carros: ['Golf', 'Corolla', 'Civic', 'Opala']\n",
            "Tucson: Tucson\n",
            "Elantra: Elantra\n"
          ]
        }
      ],
      "source": [
        "#Atribuição múltipla não precisa estar no fim da sequência\n",
        "\n",
        "tupla_carros = \"Golf\", \"Corolla\", \"Civic\", \"Opala\", \"Tucson\", \"Elantra\"\n",
        "\n",
        "*carros, tucson, elantra = tupla_carros\n",
        "print(f\"Carros: {carros}\")\n",
        "print(f\"Tucson: {tucson}\")\n",
        "print(f\"Elantra: {elantra}\")"
      ]
    },
    {
      "cell_type": "code",
      "execution_count": null,
      "metadata": {
        "colab": {
          "base_uri": "https://localhost:8080/"
        },
        "id": "BHLbL43qAef9",
        "outputId": "bcd717c8-4193-4870-ed22-18ad912117f0"
      },
      "outputs": [
        {
          "output_type": "stream",
          "name": "stdout",
          "text": [
            "Calendário 2024\n",
            " \n",
            "    January 2024\n",
            "Mo Tu We Th Fr Sa Su\n",
            " 1  2  3  4  5  6  7\n",
            " 8  9 10 11 12 13 14\n",
            "15 16 17 18 19 20 21\n",
            "22 23 24 25 26 27 28\n",
            "29 30 31\n",
            "\n",
            "   February 2024\n",
            "Mo Tu We Th Fr Sa Su\n",
            "          1  2  3  4\n",
            " 5  6  7  8  9 10 11\n",
            "12 13 14 15 16 17 18\n",
            "19 20 21 22 23 24 25\n",
            "26 27 28 29\n",
            "\n",
            "     March 2024\n",
            "Mo Tu We Th Fr Sa Su\n",
            "             1  2  3\n",
            " 4  5  6  7  8  9 10\n",
            "11 12 13 14 15 16 17\n",
            "18 19 20 21 22 23 24\n",
            "25 26 27 28 29 30 31\n",
            "\n",
            "     April 2024\n",
            "Mo Tu We Th Fr Sa Su\n",
            " 1  2  3  4  5  6  7\n",
            " 8  9 10 11 12 13 14\n",
            "15 16 17 18 19 20 21\n",
            "22 23 24 25 26 27 28\n",
            "29 30\n",
            "\n",
            "      May 2024\n",
            "Mo Tu We Th Fr Sa Su\n",
            "       1  2  3  4  5\n",
            " 6  7  8  9 10 11 12\n",
            "13 14 15 16 17 18 19\n",
            "20 21 22 23 24 25 26\n",
            "27 28 29 30 31\n",
            "\n",
            "     June 2024\n",
            "Mo Tu We Th Fr Sa Su\n",
            "                1  2\n",
            " 3  4  5  6  7  8  9\n",
            "10 11 12 13 14 15 16\n",
            "17 18 19 20 21 22 23\n",
            "24 25 26 27 28 29 30\n",
            "\n",
            "     July 2024\n",
            "Mo Tu We Th Fr Sa Su\n",
            " 1  2  3  4  5  6  7\n",
            " 8  9 10 11 12 13 14\n",
            "15 16 17 18 19 20 21\n",
            "22 23 24 25 26 27 28\n",
            "29 30 31\n",
            "\n",
            "    August 2024\n",
            "Mo Tu We Th Fr Sa Su\n",
            "          1  2  3  4\n",
            " 5  6  7  8  9 10 11\n",
            "12 13 14 15 16 17 18\n",
            "19 20 21 22 23 24 25\n",
            "26 27 28 29 30 31\n",
            "\n",
            "   September 2024\n",
            "Mo Tu We Th Fr Sa Su\n",
            "                   1\n",
            " 2  3  4  5  6  7  8\n",
            " 9 10 11 12 13 14 15\n",
            "16 17 18 19 20 21 22\n",
            "23 24 25 26 27 28 29\n",
            "30\n",
            "\n",
            "    October 2024\n",
            "Mo Tu We Th Fr Sa Su\n",
            "    1  2  3  4  5  6\n",
            " 7  8  9 10 11 12 13\n",
            "14 15 16 17 18 19 20\n",
            "21 22 23 24 25 26 27\n",
            "28 29 30 31\n",
            "\n",
            "   November 2024\n",
            "Mo Tu We Th Fr Sa Su\n",
            "             1  2  3\n",
            " 4  5  6  7  8  9 10\n",
            "11 12 13 14 15 16 17\n",
            "18 19 20 21 22 23 24\n",
            "25 26 27 28 29 30\n",
            "\n",
            "   December 2024\n",
            "Mo Tu We Th Fr Sa Su\n",
            "                   1\n",
            " 2  3  4  5  6  7  8\n",
            " 9 10 11 12 13 14 15\n",
            "16 17 18 19 20 21 22\n",
            "23 24 25 26 27 28 29\n",
            "30 31\n",
            "\n"
          ]
        }
      ],
      "source": [
        "#Calendário 2024\n",
        "\n",
        "print (\"Calendário 2024\")\n",
        "\n",
        "print (\" \")\n",
        "\n",
        "import calendar\n",
        "\n",
        "yy=2024 #ano\n",
        "mm=1 #mês\n",
        "\n",
        "#mostrar calendario\n",
        "\n",
        "print (calendar.month(yy,mm))\n",
        "\n",
        "import calendar\n",
        "yy=2024 #ano\n",
        "mm=2 #mês\n",
        "\n",
        "print (calendar.month(yy,mm))\n",
        "\n",
        "import calendar\n",
        "yy=2024 #ano\n",
        "mm=3 #mês\n",
        "\n",
        "print (calendar.month(yy,mm))\n",
        "\n",
        "import calendar\n",
        "yy=2024 #ano\n",
        "mm=4 #mês\n",
        "\n",
        "print (calendar.month(yy,mm))\n",
        "\n",
        "import calendar\n",
        "yy=2024 #ano\n",
        "mm=5 #mês\n",
        "\n",
        "print (calendar.month(yy,mm))\n",
        "\n",
        "import calendar\n",
        "yy=2024 #ano\n",
        "mm=6 #mês\n",
        "\n",
        "print (calendar.month(yy,mm))\n",
        "\n",
        "import calendar\n",
        "yy=2024 #ano\n",
        "mm=7 #mês\n",
        "\n",
        "print (calendar.month(yy,mm))\n",
        "\n",
        "import calendar\n",
        "yy=2024 #ano\n",
        "mm=8 #mês\n",
        "\n",
        "print (calendar.month(yy,mm))\n",
        "\n",
        "import calendar\n",
        "yy=2024 #ano\n",
        "mm=9 #mês\n",
        "\n",
        "print (calendar.month(yy,mm))\n",
        "\n",
        "import calendar\n",
        "yy=2024 #ano\n",
        "mm=10 #mês\n",
        "\n",
        "print (calendar.month(yy,mm))\n",
        "\n",
        "import calendar\n",
        "yy=2024 #ano\n",
        "mm=11 #mês\n",
        "\n",
        "print (calendar.month(yy,mm))\n",
        "\n",
        "import calendar\n",
        "yy=2024 #ano\n",
        "mm=12 #mês\n",
        "\n",
        "print (calendar.month(yy,mm))\n",
        "\n",
        "import calendar\n",
        "yy=2024 #ano\n",
        "mm=12 #mês"
      ]
    },
    {
      "cell_type": "code",
      "execution_count": null,
      "metadata": {
        "colab": {
          "base_uri": "https://localhost:8080/"
        },
        "id": "5z2NUgcpG7E5",
        "outputId": "3cd12564-fe8c-4a8a-d187-2ba8da61f295"
      },
      "outputs": [
        {
          "name": "stdout",
          "output_type": "stream",
          "text": [
            "Normal Pyramid\n",
            "          \n",
            "    *     \n",
            "    **    \n",
            "   ***    \n",
            "   ****   \n"
          ]
        }
      ],
      "source": [
        "#Pirâmide\n",
        "\n",
        "print (\"Normal Pyramid\")\n",
        "for i in range (5):\n",
        "  x='*'\n",
        "  x=x*i\n",
        "  print(f\"{x: ^10}\")"
      ]
    },
    {
      "cell_type": "code",
      "source": [
        "#chatbot\n",
        "\n",
        "import time\n",
        "import random\n",
        "\n",
        "nome = input(\"Olá, qual é o seu nome? \")\n",
        "\n",
        "time.sleep(2)\n",
        "print(\"Olá \" + nome)\n",
        "\n",
        "feeling = input(\"Como está se sentindo hoje? \")\n",
        "\n",
        "time.sleep(2)\n",
        "if \"Bem\" in feeling:\n",
        "    print(\"Eu também estou bem :) \")\n",
        "else:\n",
        "    print(\"Sinto muito :( \")\n",
        "\n",
        "time.sleep(2)\n",
        "cor = input(\"Qual é sua cor favorita? \")\n",
        "\n",
        "colours = [\"Vermelho\", \"Verde\", \"Azul\", \"Amarelo\", \"Rosa\", \"Roxo\", \"Preto\", \"Branco\"]\n",
        "\n",
        "time.sleep(2)\n",
        "print(\"Minha cor favorita é: \" + random.choice(colours))"
      ],
      "metadata": {
        "id": "F35UOPAPWRtx"
      },
      "execution_count": null,
      "outputs": []
    },
    {
      "cell_type": "code",
      "source": [],
      "metadata": {
        "id": "-gf2MQL6ZHfH"
      },
      "execution_count": null,
      "outputs": []
    },
    {
      "cell_type": "code",
      "source": [
        "#shakespearean insults\n",
        "\n",
        "import random\n",
        "\n",
        "column1=[\"artless\", \"bawdy\", \"beslubbering\", \"bootless\", \"churlish\", \"cockered\", \"clouted\", \"craven\", \"currish\", \"dankish\", \"dissembling\", \"droning\",\n",
        "         \"errant\", \"fawning\", \"fobbing\", \"forward\", \"frothy\", \"gleeking\", \"goatish\", \"gorbellied\", \"impertinent\", \"infectious\", \"jarring\", \"loggerheaded\",\n",
        "         \"lumpish\", \"mammering\", \"mangled\", \"mewling\", \"paunchy\", \"pribbling\", \"puking\", \"puny\", \"qualling\", \"rank\", \"reeky\", \"roguish\", \"ruttish\", \"saucy\",\n",
        "         \"spleeny\", \"spongy\", \"surly\", \"tottering\", \"unmuzzled\", \"vain\", \"venomed\", \"villainous\", \"warped\", \"wayward\", \"weedy\", \"yeast\"]\n",
        "\n",
        "column2=[\"base-court\", \"bat-fowling\", \"beef-witted\", \"beetle-headed\", \"boil-brained\", \"clapper-clawed\", \"clay-brained\", \"common-kissing\", \"crook-pated\",\n",
        "         \"dismal-dreaming\", \"dizzy-eyed\", \"doghearted\", \"dread-bolted\", \"earth-vexing\", \"elf-skinned\", \"fat-kidneyed\", \"fen-sucked\", \"flap-mouthed\",\n",
        "         \"fly-bitten\", \"folly-fallen\", \"fool-born\", \"full-gorged\", \"guts-griping\", \"half-faced\", \"hasty-witted\", \"hedge-born\", \"hell-hated\", \"idle-headed\",\n",
        "         \"ill-breeding\", \"ill-nurtured\", \"knotty-pated\", \"milk-livered\", \"motley-minded\", \"onion-eyed\", \"plume-plucked\", \"pottle-deep\", \"pox-marked\",\n",
        "         \"reeling-ripe\", \"rough-hewn\", \"rude-growing\", \"rump-fed\", \"shard-borne\", \"sheep-biting\", \"spur-galled\", \"swag-bellied\", \"tardy-gaited\",\n",
        "         \"tickle-brained\", \"toad-spotted\", \"unchin-snouted\", \"weather-bitten\"]\n",
        "\n",
        "column3=[\"apple-john\", \"baggage\", \"barnacle\", \"beast\", \"bladder\", \"boar-pig\", \"bugbear\", \"bum-bailey\", \"canker-blossom\", \"clack-dish\", \"clotpole\", \"coxcomb\",\n",
        "         \"codpiece\", \"death-token\", \"dewberry\", \"flap-dragon\", \"flax-wench\", \"flirt-gill\", \"foot-licker\", \"fustilarian\", \"giglet\", \"gudgeon\", \"haggard\",\n",
        "         \"harpy\", \"hedge-pig\", \"horn-beast\", \"hugger-mugger\", \"joithead\", \"lewdster\", \"lout\", \"maggot-pie\", \"malt-worm\", \"mammet\", \"measle\", \"minnow\",\n",
        "         \"miscreant\", \"moldwarp\", \"mumble-news\", \"nut-hook\", \"pigeon-egg\", \"pignut\", \"puttock\", \"pumpion\", \"ratsbane\", \"scut\", \"skainsmate\", \"strumpet\",\n",
        "         \"varlot\", \"vassal\", \"whey-face\", \"wagtail\"]\n",
        "\n",
        "print(\"Thou \" + column1[random.randint(0,49)] + (\" \") + column2[random.randint(0,49)] + (\" \") + column3[random.randint(0,50)])"
      ],
      "metadata": {
        "colab": {
          "base_uri": "https://localhost:8080/"
        },
        "id": "IuXI0OGoYmSk",
        "outputId": "bcc7d75f-f50a-4051-bdad-0a4ee6055357"
      },
      "execution_count": null,
      "outputs": [
        {
          "output_type": "stream",
          "name": "stdout",
          "text": [
            "Thou jarring rump-fed miscreant\n"
          ]
        }
      ]
    },
    {
      "cell_type": "code",
      "source": [],
      "metadata": {
        "id": "ah_fE5zl66o8"
      },
      "execution_count": null,
      "outputs": []
    }
  ],
  "metadata": {
    "colab": {
      "provenance": [],
      "authorship_tag": "ABX9TyMfae7UeR9hlfKaTTBC208C",
      "include_colab_link": true
    },
    "kernelspec": {
      "display_name": "Python 3",
      "name": "python3"
    },
    "language_info": {
      "name": "python"
    }
  },
  "nbformat": 4,
  "nbformat_minor": 0
}